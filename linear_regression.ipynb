{
 "cells": [
  {
   "cell_type": "markdown",
   "metadata": {},
   "source": [
    "Equation y=mx+c"
   ]
  },
  {
   "cell_type": "code",
   "execution_count": 15,
   "metadata": {},
   "outputs": [
    {
     "name": "stdout",
     "output_type": "stream",
     "text": [
      "68.7775959816\n"
     ]
    }
   ],
   "source": [
    "from numpy import *\n",
    "def linearregression():\n",
    "    initial_b=0\n",
    "    initial_m=0\n",
    "    points=genfromtxt('data.csv',delimiter=',')\n",
    "    print(points[1][1])\n",
    "    learning_rate=0.0001\n",
    "    num_iterations=100\n",
    "    [values.final_b,values.final_m]=gradient(points,initial_b,initial_m,learning_rate,num_itearations)\n",
    "\n",
    "linearregression()\n",
    "#learning rate less the number more is accuracy"
   ]
  },
  {
   "cell_type": "code",
   "execution_count": null,
   "metadata": {
    "collapsed": true
   },
   "outputs": [],
   "source": [
    "\n",
    "def error(points,m,b):\n",
    "    total_error=0\n",
    "    for i in range(0,len(points)):\n",
    "        x=points[i][0]\n",
    "        y=points[i][1]\n",
    "        total_error+=(y-(mx+b))**2\n",
    "    total_error=total_error/len(points)\n",
    "    \n",
    "\n",
    "\n",
    "def cal_partial(points,m,b):\n",
    "    par=0\n",
    "    for i in range(0,len(points)):\n",
    "        y=points[i][1]\n",
    "        x=points[i][0]\n",
    "        par=2(y-(mx+b)(-x))\n",
    "    par=par/len(points)\n",
    "        \n",
    "    \n",
    "    \n",
    "        \n",
    "        "
   ]
  }
 ],
 "metadata": {
  "kernelspec": {
   "display_name": "Python 3",
   "language": "python",
   "name": "python3"
  },
  "language_info": {
   "codemirror_mode": {
    "name": "ipython",
    "version": 3
   },
   "file_extension": ".py",
   "mimetype": "text/x-python",
   "name": "python",
   "nbconvert_exporter": "python",
   "pygments_lexer": "ipython3",
   "version": "3.6.1"
  }
 },
 "nbformat": 4,
 "nbformat_minor": 2
}
