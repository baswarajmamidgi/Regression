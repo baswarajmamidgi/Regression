{
 "cells": [
  {
   "cell_type": "raw",
   "metadata": {},
   "source": [
    "Brief explanation link https://medium.com/@poornaprudhvi/linear-regression-a5556d8f3e2b"
   ]
  },
  {
   "cell_type": "markdown",
   "metadata": {},
   "source": [
    "Equation y=mx+c"
   ]
  },
  {
   "cell_type": "code",
   "execution_count": 45,
   "metadata": {},
   "outputs": [],
   "source": [
    "import numpy as np\n",
    "import matplotlib.pyplot as plt\n",
    "#data set from keggel https://www.kaggle.com/andonians/random-linear-regression"
   ]
  },
  {
   "cell_type": "code",
   "execution_count": 46,
   "metadata": {
    "collapsed": true
   },
   "outputs": [],
   "source": [
    "class values:\n",
    "    final_b=0\n",
    "    final_m=0"
   ]
  },
  {
   "cell_type": "code",
   "execution_count": 47,
   "metadata": {
    "collapsed": true
   },
   "outputs": [],
   "source": [
    "#calculating squared error\n",
    "def error(b,m,points):\n",
    "    total_error=0\n",
    "    for i in range(0,len(points)):\n",
    "        x=points[i][0]\n",
    "        y=points[i][1]\n",
    "        total_error+=(y-(m*x+b))**2\n",
    "    total_error=total_error/len(points)\n",
    "    return total_error\n",
    "    \n",
    "\n",
    "\n",
    "        \n",
    "        "
   ]
  },
  {
   "cell_type": "code",
   "execution_count": 48,
   "metadata": {
    "collapsed": true
   },
   "outputs": [],
   "source": [
    "#calculting partial derivative\n",
    "def cal_partial(b,m,points):\n",
    "    par=0\n",
    "    for i in range(0,len(points)):\n",
    "        y=points[i][1]\n",
    "        x=points[i][0]\n",
    "        par=2(y-(mx+b)(-x))\n",
    "    par=par/len(points)\n",
    "    \n",
    "    return par\n",
    "        \n",
    "    \n",
    "    "
   ]
  },
  {
   "cell_type": "code",
   "execution_count": 49,
   "metadata": {
    "collapsed": true
   },
   "outputs": [],
   "source": [
    "def step_gradient(b_current,m_current,points,learningRate):\n",
    "    b_gradient=0\n",
    "    m_gradient=0\n",
    "    N=float(len(points))\n",
    "    for i in range(0,len(points)):\n",
    "        x=points[i,0]\n",
    "        y=points[i,1]\n",
    "        b_gradient+=-(2/N)*(y-(m_current*x+b_current))\n",
    "        m_gradient+=-(2/N)*x*(y-(m_current*x+b_current))\n",
    "    new_b=b_current-(learningRate*b_gradient)\n",
    "    new_m=m_current-(learningRate*m_gradient)\n",
    "    return [new_b,new_m]\n"
   ]
  },
  {
   "cell_type": "code",
   "execution_count": 50,
   "metadata": {
    "collapsed": true
   },
   "outputs": [],
   "source": [
    "#calculating gradient \n",
    "#The gradient will give us the direction to go to minimise the function.\n",
    "\n",
    "def gradient(points,starting_b,starting_m,learning_rate,num_iterations):\n",
    "    b=starting_b\n",
    "    m=starting_m\n",
    "    for i in range(num_iterations):\n",
    "        print(\"At iteration\",i,\"Bias is:\",b,\"Slope is:\",m,\"Error is:\",error(b,m,points))\n",
    "        [b,m]=step_gradient(b,m,array(points),learning_rate)\n",
    "    return [b,m]"
   ]
  },
  {
   "cell_type": "code",
   "execution_count": 53,
   "metadata": {},
   "outputs": [
    {
     "name": "stdout",
     "output_type": "stream",
     "text": [
      "47.46446305\n",
      "At iteration 0 Bias is: 0 Slope is: 0 Error is: 21138.2261494\n",
      "At iteration 1 Bias is: 0.0109823216912 Slope is: 0.678235335145 Error is: 18071.3990615\n",
      "At iteration 2 Bias is: 0.0151855194494 Slope is: 0.904108962701 Error is: 17731.2270646\n",
      "At iteration 3 Bias is: 0.0171309472814 Slope is: 0.979326508203 Error is: 17693.4899476\n",
      "At iteration 4 Bias is: 0.0183244123132 Slope is: 1.00436903987 Error is: 17689.2982754\n",
      "At iteration 5 Bias is: 0.0192674136756 Slope is: 1.0127011146 Error is: 17688.8273944\n",
      "At iteration 6 Bias is: 0.020126972347 Slope is: 1.0154678823 Error is: 17688.7692164\n",
      "At iteration 7 Bias is: 0.0209587135639 Slope is: 1.01638116161 Error is: 17688.7568151\n",
      "At iteration 8 Bias is: 0.0217811629456 Slope is: 1.01667714926 Error is: 17688.7494919\n",
      "At iteration 9 Bias is: 0.0226004903288 Slope is: 1.0167675524 Error is: 17688.7427325\n",
      "At iteration 10 Bias is: 0.0234187505385 Slope is: 1.01678948738 Error is: 17688.7360363\n",
      "At iteration 11 Bias is: 0.0242366279216 Slope is: 1.01678861992 Error is: 17688.7293476\n",
      "At iteration 12 Bias is: 0.0250543503971 Slope is: 1.01678015865 Error is: 17688.7226604\n",
      "At iteration 13 Bias is: 0.025871993873 Slope is: 1.01676916873 Error is: 17688.715974\n",
      "At iteration 14 Bias is: 0.0266895836315 Slope is: 1.01675733707 Error is: 17688.7092882\n",
      "At iteration 15 Bias is: 0.027507128094 Slope is: 1.01674522549 Error is: 17688.7026031\n",
      "At iteration 16 Bias is: 0.0283246300665 Slope is: 1.01673302109 Error is: 17688.6959187\n",
      "At iteration 17 Bias is: 0.0291420904851 Slope is: 1.01672078618 Error is: 17688.689235\n",
      "At iteration 18 Bias is: 0.0299595096626 Slope is: 1.01670854153 Error is: 17688.6825519\n",
      "At iteration 19 Bias is: 0.0307768877049 Slope is: 1.01669629405 Error is: 17688.6758695\n",
      "At iteration 20 Bias is: 0.0315942246485 Slope is: 1.01668404603 Error is: 17688.6691878\n",
      "At iteration 21 Bias is: 0.0324115205069 Slope is: 1.01667179824 Error is: 17688.6625067\n",
      "At iteration 22 Bias is: 0.033228775286 Slope is: 1.01665955094 Error is: 17688.6558263\n",
      "At iteration 23 Bias is: 0.0340459889891 Slope is: 1.01664730422 Error is: 17688.6491466\n",
      "At iteration 24 Bias is: 0.0348631616188 Slope is: 1.01663505809 Error is: 17688.6424676\n",
      "At iteration 25 Bias is: 0.0356802931773 Slope is: 1.01662281258 Error is: 17688.6357892\n",
      "At iteration 26 Bias is: 0.0364973836666 Slope is: 1.01661056768 Error is: 17688.6291115\n",
      "At iteration 27 Bias is: 0.0373144330889 Slope is: 1.01659832339 Error is: 17688.6224345\n",
      "At iteration 28 Bias is: 0.0381314414461 Slope is: 1.01658607972 Error is: 17688.6157581\n",
      "At iteration 29 Bias is: 0.0389484087404 Slope is: 1.01657383667 Error is: 17688.6090824\n",
      "At iteration 30 Bias is: 0.0397653349739 Slope is: 1.01656159423 Error is: 17688.6024074\n",
      "At iteration 31 Bias is: 0.0405822201486 Slope is: 1.01654935241 Error is: 17688.5957331\n",
      "At iteration 32 Bias is: 0.0413990642665 Slope is: 1.0165371112 Error is: 17688.5890594\n",
      "At iteration 33 Bias is: 0.0422158673298 Slope is: 1.01652487061 Error is: 17688.5823864\n",
      "At iteration 34 Bias is: 0.0430326293405 Slope is: 1.01651263063 Error is: 17688.5757141\n",
      "At iteration 35 Bias is: 0.0438493503006 Slope is: 1.01650039127 Error is: 17688.5690424\n",
      "At iteration 36 Bias is: 0.0446660302122 Slope is: 1.01648815252 Error is: 17688.5623714\n",
      "At iteration 37 Bias is: 0.0454826690775 Slope is: 1.01647591439 Error is: 17688.5557011\n",
      "At iteration 38 Bias is: 0.0462992668983 Slope is: 1.01646367687 Error is: 17688.5490314\n",
      "At iteration 39 Bias is: 0.0471158236769 Slope is: 1.01645143997 Error is: 17688.5423625\n",
      "At iteration 40 Bias is: 0.0479323394153 Slope is: 1.01643920368 Error is: 17688.5356941\n",
      "At iteration 41 Bias is: 0.0487488141155 Slope is: 1.01642696801 Error is: 17688.5290265\n",
      "At iteration 42 Bias is: 0.0495652477795 Slope is: 1.01641473295 Error is: 17688.5223595\n",
      "At iteration 43 Bias is: 0.0503816404096 Slope is: 1.01640249851 Error is: 17688.5156932\n",
      "At iteration 44 Bias is: 0.0511979920077 Slope is: 1.01639026468 Error is: 17688.5090276\n",
      "At iteration 45 Bias is: 0.0520143025758 Slope is: 1.01637803147 Error is: 17688.5023626\n",
      "At iteration 46 Bias is: 0.0528305721161 Slope is: 1.01636579887 Error is: 17688.4956984\n",
      "At iteration 47 Bias is: 0.0536468006306 Slope is: 1.01635356689 Error is: 17688.4890347\n",
      "At iteration 48 Bias is: 0.0544629881214 Slope is: 1.01634133552 Error is: 17688.4823718\n",
      "At iteration 49 Bias is: 0.0552791345905 Slope is: 1.01632910476 Error is: 17688.4757095\n",
      "At iteration 50 Bias is: 0.05609524004 Slope is: 1.01631687463 Error is: 17688.4690479\n",
      "At iteration 51 Bias is: 0.056911304472 Slope is: 1.0163046451 Error is: 17688.462387\n",
      "At iteration 52 Bias is: 0.0577273278884 Slope is: 1.01629241619 Error is: 17688.4557267\n",
      "At iteration 53 Bias is: 0.0585433102915 Slope is: 1.0162801879 Error is: 17688.4490671\n",
      "At iteration 54 Bias is: 0.0593592516832 Slope is: 1.01626796022 Error is: 17688.4424082\n",
      "At iteration 55 Bias is: 0.0601751520656 Slope is: 1.01625573315 Error is: 17688.4357499\n",
      "At iteration 56 Bias is: 0.0609910114408 Slope is: 1.0162435067 Error is: 17688.4290923\n",
      "At iteration 57 Bias is: 0.0618068298107 Slope is: 1.01623128087 Error is: 17688.4224354\n",
      "At iteration 58 Bias is: 0.0626226071776 Slope is: 1.01621905564 Error is: 17688.4157791\n",
      "At iteration 59 Bias is: 0.0634383435434 Slope is: 1.01620683104 Error is: 17688.4091235\n",
      "At iteration 60 Bias is: 0.0642540389102 Slope is: 1.01619460704 Error is: 17688.4024686\n",
      "At iteration 61 Bias is: 0.0650696932801 Slope is: 1.01618238366 Error is: 17688.3958144\n",
      "At iteration 62 Bias is: 0.0658853066552 Slope is: 1.0161701609 Error is: 17688.3891608\n",
      "At iteration 63 Bias is: 0.0667008790374 Slope is: 1.01615793875 Error is: 17688.3825079\n",
      "At iteration 64 Bias is: 0.0675164104288 Slope is: 1.01614571721 Error is: 17688.3758557\n",
      "At iteration 65 Bias is: 0.0683319008316 Slope is: 1.01613349629 Error is: 17688.3692041\n",
      "At iteration 66 Bias is: 0.0691473502477 Slope is: 1.01612127598 Error is: 17688.3625532\n",
      "At iteration 67 Bias is: 0.0699627586792 Slope is: 1.01610905629 Error is: 17688.3559029\n",
      "At iteration 68 Bias is: 0.0707781261283 Slope is: 1.01609683721 Error is: 17688.3492534\n",
      "At iteration 69 Bias is: 0.0715934525969 Slope is: 1.01608461875 Error is: 17688.3426045\n",
      "At iteration 70 Bias is: 0.0724087380871 Slope is: 1.0160724009 Error is: 17688.3359562\n",
      "At iteration 71 Bias is: 0.0732239826009 Slope is: 1.01606018366 Error is: 17688.3293087\n",
      "At iteration 72 Bias is: 0.0740391861405 Slope is: 1.01604796704 Error is: 17688.3226618\n",
      "At iteration 73 Bias is: 0.0748543487079 Slope is: 1.01603575103 Error is: 17688.3160156\n",
      "At iteration 74 Bias is: 0.0756694703051 Slope is: 1.01602353563 Error is: 17688.30937\n",
      "At iteration 75 Bias is: 0.0764845509342 Slope is: 1.01601132085 Error is: 17688.3027251\n",
      "At iteration 76 Bias is: 0.0772995905973 Slope is: 1.01599910669 Error is: 17688.2960809\n",
      "At iteration 77 Bias is: 0.0781145892964 Slope is: 1.01598689313 Error is: 17688.2894373\n",
      "At iteration 78 Bias is: 0.0789295470336 Slope is: 1.01597468019 Error is: 17688.2827945\n",
      "At iteration 79 Bias is: 0.079744463811 Slope is: 1.01596246787 Error is: 17688.2761522\n",
      "At iteration 80 Bias is: 0.0805593396305 Slope is: 1.01595025616 Error is: 17688.2695107\n",
      "At iteration 81 Bias is: 0.0813741744943 Slope is: 1.01593804506 Error is: 17688.2628698\n",
      "At iteration 82 Bias is: 0.0821889684044 Slope is: 1.01592583458 Error is: 17688.2562296\n",
      "At iteration 83 Bias is: 0.0830037213629 Slope is: 1.0159136247 Error is: 17688.24959\n",
      "At iteration 84 Bias is: 0.0838184333718 Slope is: 1.01590141545 Error is: 17688.2429512\n",
      "At iteration 85 Bias is: 0.0846331044332 Slope is: 1.01588920681 Error is: 17688.2363129\n",
      "At iteration 86 Bias is: 0.0854477345491 Slope is: 1.01587699878 Error is: 17688.2296754\n",
      "At iteration 87 Bias is: 0.0862623237217 Slope is: 1.01586479136 Error is: 17688.2230385\n",
      "At iteration 88 Bias is: 0.0870768719529 Slope is: 1.01585258456 Error is: 17688.2164023\n",
      "At iteration 89 Bias is: 0.0878913792449 Slope is: 1.01584037837 Error is: 17688.2097668\n",
      "At iteration 90 Bias is: 0.0887058455996 Slope is: 1.01582817279 Error is: 17688.2031319\n",
      "At iteration 91 Bias is: 0.0895202710191 Slope is: 1.01581596783 Error is: 17688.1964977\n",
      "At iteration 92 Bias is: 0.0903346555056 Slope is: 1.01580376348 Error is: 17688.1898641\n",
      "At iteration 93 Bias is: 0.091148999061 Slope is: 1.01579155975 Error is: 17688.1832313\n",
      "At iteration 94 Bias is: 0.0919633016874 Slope is: 1.01577935663 Error is: 17688.1765991\n",
      "At iteration 95 Bias is: 0.0927775633869 Slope is: 1.01576715412 Error is: 17688.1699675\n",
      "At iteration 96 Bias is: 0.0935917841615 Slope is: 1.01575495222 Error is: 17688.1633366\n",
      "At iteration 97 Bias is: 0.0944059640133 Slope is: 1.01574275094 Error is: 17688.1567064\n",
      "At iteration 98 Bias is: 0.0952201029443 Slope is: 1.01573055027 Error is: 17688.1500769\n",
      "At iteration 99 Bias is: 0.0960342009566 Slope is: 1.01571835022 Error is: 17688.143448\n"
     ]
    }
   ],
   "source": [
    "import numpy as np\n",
    "def linearregression():\n",
    "    try:\n",
    "        initial_b=0\n",
    "        initial_m=0\n",
    "        points=np.genfromtxt('train.csv',delimiter=',')\n",
    "        print(points[1][1])\n",
    "        learning_rate=0.0001\n",
    "        num_iterations=100\n",
    "        [values.final_b,values.final_m]=gradient(points,initial_b,initial_m,learning_rate,num_iterations)\n",
    "    except Exception as e:\n",
    "        print(e)\n",
    "linearregression()\n",
    "#learning rate less the number more is accuracy"
   ]
  },
  {
   "cell_type": "code",
   "execution_count": 21,
   "metadata": {
    "collapsed": true
   },
   "outputs": [],
   "source": [
    "#values.final_b,values.final_m are tuned wights or the coefficients of the line "
   ]
  },
  {
   "cell_type": "code",
   "execution_count": 54,
   "metadata": {},
   "outputs": [
    {
     "name": "stdout",
     "output_type": "stream",
     "text": [
      "Final bias is:  0.0968482580523\n",
      "Final slope is:  1.01570615078\n"
     ]
    },
    {
     "data": {
      "image/png": "[encoded data removed]",
      "text/plain": [
       "<matplotlib.figure.Figure at 0x7fd4fe8d77f0>"
      ]
     },
     "metadata": {},
     "output_type": "display_data"
    }
   ],
   "source": [
    "import numpy\n",
    "# prediction\n",
    "print(\"Final bias is: \",values.final_b)\n",
    "print(\"Final slope is: \",values.final_m)\n",
    "points=genfromtxt('test.csv',delimiter=',')\n",
    "x_values=[]\n",
    "y_pred=[]\n",
    "y_true=[]\n",
    "x_val=[]\n",
    "for i in range(0,len(points)):\n",
    "    x=points[i,0]\n",
    "    y=points[i,1]\n",
    "    x_values.append(x)\n",
    "    y_true.append(y)\n",
    "    y_pred.append(values.final_m*x+values.final_b)\n",
    "    \n",
    "    \n",
    "plt.subplot(2,1,1)\n",
    "plt.plot(numpy.array(x_values),numpy.array(y_pred),color=\"blue\")\n",
    "plt.xlabel('Id')\n",
    "plt.ylabel('Predicted')\n",
    "plt.subplot(2,1,2)\n",
    "plt.xlabel('Id')\n",
    "plt.ylabel('Actual')\n",
    "plt.scatter(numpy.array(x_values),numpy.array(y_true),color=\"orange\")\n",
    "plt.tight_layout()\n",
    "plt.show()\n",
    "    "
   ]
  },
  {
   "cell_type": "code",
   "execution_count": null,
   "metadata": {
    "collapsed": true
   },
   "outputs": [],
   "source": []
  }
 ],
 "metadata": {
  "kernelspec": {
   "display_name": "Python 3",
   "language": "python",
   "name": "python3"
  },
  "language_info": {
   "codemirror_mode": {
    "name": "ipython",
    "version": 3
   },
   "file_extension": ".py",
   "mimetype": "text/x-python",
   "name": "python",
   "nbconvert_exporter": "python",
   "pygments_lexer": "ipython3",
   "version": "3.6.1"
  }
 },
 "nbformat": 4,
 "nbformat_minor": 2
}
